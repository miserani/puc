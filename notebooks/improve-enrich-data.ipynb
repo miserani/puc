{
 "cells": [
  {
   "cell_type": "code",
   "execution_count": null,
   "id": "18dea08e",
   "metadata": {
    "vscode": {
     "languageId": "plaintext"
    }
   },
   "outputs": [],
   "source": [
    "from pyspark.sql import SparkSession\n",
    "from pyspark.sql.types import StructType, StructField, StringType, IntegerType, DoubleType, TimestampType\n",
    "import pyspark.sql.functions as f"
   ]
  },
  {
   "cell_type": "code",
   "execution_count": null,
   "id": "19c338f8",
   "metadata": {
    "vscode": {
     "languageId": "plaintext"
    }
   },
   "outputs": [],
   "source": [
    "spark = SparkSession.builder \\\n",
    "    .appName(\"improve-enrich-data\") \\\n",
    "    .getOrCreate()"
   ]
  },
  {
   "cell_type": "code",
   "execution_count": null,
   "id": "80445a7f",
   "metadata": {
    "vscode": {
     "languageId": "plaintext"
    }
   },
   "outputs": [],
   "source": [
    "# Definir o schema dos dados na leitura\n",
    "schema = StructType([\n",
    "    StructField(\"invoice_no\", StringType(), True),\n",
    "    StructField(\"invoice_date\", StringType(), True), # observe que é um tipo string para uma coluna de datetime ;)\n",
    "    StructField(\"customer_id\", StringType(), True),\n",
    "    StructField(\"gender\", StringType(), True),\n",
    "    StructField(\"age\", IntegerType(), True),\n",
    "    StructField(\"category\", StringType(), True),\n",
    "    StructField(\"quantity\", IntegerType(), True),\n",
    "    StructField(\"selling_price_per_unit\", DoubleType(), True),\n",
    "    StructField(\"cost_price_per_unit\", DoubleType(), True),\n",
    "    StructField(\"payment_method\", StringType(), True),\n",
    "    StructField(\"region\", StringType(), True),\n",
    "    StructField(\"state\", StringType(), True),\n",
    "    StructField(\"shopping_mall\", StringType(), True)\n",
    "])"
   ]
  },
  {
   "cell_type": "code",
   "execution_count": null,
   "id": "c2fa219d",
   "metadata": {
    "vscode": {
     "languageId": "plaintext"
    }
   },
   "outputs": [],
   "source": [
    "'''\n",
    "Sobre o Conjunto de Dados\n",
    "Visão Geral\n",
    "\n",
    "Este conjunto de dados é uma criação fictícia, projetada especificamente para ajudar analistas de \n",
    "dados a praticar análise exploratória de dados e visualização de dados. \n",
    "Ele contém informações sobre pedidos feitos por clientes em um aplicativo de entrega de produtos de \n",
    "supermercado.\n",
    "'''\n",
    "df = spark.read.csv(\"datasource/Different_stores_dataset.csv\", header=True, schema=schema)"
   ]
  },
  {
   "cell_type": "code",
   "execution_count": null,
   "id": "de6f569e",
   "metadata": {
    "vscode": {
     "languageId": "plaintext"
    }
   },
   "outputs": [],
   "source": [
    "df.show(n=1, truncate=False, vertical=True)"
   ]
  },
  {
   "cell_type": "code",
   "execution_count": null,
   "id": "1e46296d",
   "metadata": {
    "vscode": {
     "languageId": "plaintext"
    }
   },
   "outputs": [],
   "source": [
    "from ydata_profiling import ProfileReport\n",
    "'''\n",
    "Esta linha importa a classe ProfileReport do módulo ydata_profiling que é uma biblioteca para análise exploratória de dados. \n",
    "Seu objetivo é gerar relatórios de perfil de conjuntos de dados, oferecendo uma visão geral abrangente dos dados.\n",
    "'''\n",
    "report = ProfileReport(\n",
    "    df,\n",
    "    title='Different stores dataset',       \n",
    "    dataset={\n",
    "        \"description\": \"Dados fictícios sobre pedidos feitos por clientes em um aplicativo de entrega de produtos de supermercado\",\n",
    "        \"copyright_holder\": \"Kushal Kamra\",\n",
    "        \"url\": \"https://www.kaggle.com/datasets/kzmontage/sales-from-different-stores\",\n",
    "    },\n",
    "    variables={\n",
    "        \"descriptions\": {\n",
    "            \"invoice_no\": \"Número da fatura associado a cada transação.\",\n",
    "            \"customer_id\": \"Identificador único para cada cliente.\",\n",
    "            \"gender\": \"Gênero do cliente (presumido ser binário: masculino/feminino).\",\n",
    "            \"age\": \"Idade do cliente.\",\n",
    "            \"category\": \"Categoria do produto associada à transação.\",\n",
    "            \"quantity\": \"Quantidade de produtos comprados em cada transação.\",\n",
    "            \"selling_price_per_unit\": \"Preço de venda por unidade do produto.\",\n",
    "            \"cost_price_per_unit\": \"Preço de custo por unidade do produto.\",\n",
    "            \"payment_method\": \"Método de pagamento usado na transação.\",\n",
    "            \"region\": \"Região geográfica associada à transação.\",\n",
    "            \"state\": \"Estado onde a transação ocorreu.\",\n",
    "            \"shopping_mall\": \"Shopping center onde ocorreu a transação.\",\n",
    "        }\n",
    "    },\n",
    "    infer_dtypes=False,\n",
    "    interactions=None,\n",
    "    missing_diagrams=None,\n",
    "    correlations={\"pearson\": {\"calculate\": True}}\n",
    ")"
   ]
  },
  {
   "cell_type": "code",
   "execution_count": null,
   "id": "51f935ee",
   "metadata": {
    "vscode": {
     "languageId": "plaintext"
    }
   },
   "outputs": [],
   "source": [
    "report"
   ]
  },
  {
   "cell_type": "code",
   "execution_count": null,
   "id": "d8f77cc2",
   "metadata": {
    "vscode": {
     "languageId": "plaintext"
    }
   },
   "outputs": [],
   "source": [
    "# Limpeza e padronização dos dados: Vamos melhorar o schema dos dados modificando o _Tipo_ da coluna `invoice_date` de String para Timestamp. \n",
    "df = df.withColumn(\"invoice_datetime\", f.to_timestamp(df.invoice_date, 'MM/dd/yyyy H:mm'))"
   ]
  },
  {
   "cell_type": "code",
   "execution_count": null,
   "id": "d9db1813",
   "metadata": {
    "vscode": {
     "languageId": "plaintext"
    }
   },
   "outputs": [],
   "source": [
    "# Padronização de Dados: Criar uma coluna extra invoice_date do _Tipo_ String no formato 'dd/MM/yyyy' para contrução de partição \n",
    "# melhorando o desempenho de consultas com data.\n",
    "df = df.withColumn(\"invoice_date\", f.date_format(\"invoice_datetime\", 'dd/MM/yyyy'))"
   ]
  },
  {
   "cell_type": "code",
   "execution_count": null,
   "id": "ac6900c7",
   "metadata": {
    "vscode": {
     "languageId": "plaintext"
    }
   },
   "outputs": [],
   "source": [
    "df.select(\"invoice_datetime\", \"invoice_date\").show()"
   ]
  },
  {
   "cell_type": "code",
   "execution_count": null,
   "id": "ee2188ba",
   "metadata": {
    "vscode": {
     "languageId": "plaintext"
    }
   },
   "outputs": [],
   "source": [
    "df.createOrReplaceTempView(\"stores\")"
   ]
  },
  {
   "cell_type": "code",
   "execution_count": null,
   "id": "11b7542c",
   "metadata": {
    "vscode": {
     "languageId": "plaintext"
    }
   },
   "outputs": [],
   "source": [
    "spark.sql(\n",
    "    \"SELECT * FROM stores\"\n",
    ").show(n=1, vertical=True)"
   ]
  },
  {
   "cell_type": "code",
   "execution_count": null,
   "id": "7ea7fb65",
   "metadata": {
    "vscode": {
     "languageId": "plaintext"
    }
   },
   "outputs": [],
   "source": [
    "'''\n",
    "1. Melhoramento e Enriquecimento de Dados:\n",
    "    Você poderia enriquecer esses dados adicionando informações de rentabilidade para cada \n",
    "    transação (calculando a diferença entre selling_price_per_unit e cost_price_per_unit\n",
    "    multiplicada pela quantity).\n",
    "'''"
   ]
  },
  {
   "cell_type": "code",
   "execution_count": null,
   "id": "e203684b",
   "metadata": {
    "vscode": {
     "languageId": "plaintext"
    }
   },
   "outputs": [],
   "source": [
    "''' \n",
    "2. Eliminação de Dados Irrelevantes:\n",
    "    Eliminar dados irrelevantes significa remover informações que não contribuem para a análise ou \n",
    "    objetivo específico.\n",
    "\n",
    "    Se o objetivo for analisar apenas as vendas de produtos, campos como invoice_no e customer_id \n",
    "    podem ser considerados irrelevantes e, portanto, removidos.\n",
    "    Em análises focadas em tendências, detalhes como shopping_mall podem ser descartados.\n",
    "'''"
   ]
  },
  {
   "cell_type": "code",
   "execution_count": null,
   "id": "a33ec535",
   "metadata": {
    "vscode": {
     "languageId": "plaintext"
    }
   },
   "outputs": [],
   "source": [
    "'''\n",
    "3. Granulação e Agregação:\n",
    "    A granulação e agregação envolvem resumir ou combinar dados para um nível de detalhe mais \n",
    "    alto ou mais baixo, dependendo da necessidade da análise.\n",
    "\n",
    "    3.1 Granulação: Filtrar dados para um nível mais detalhado, como todas as transações de um \n",
    "    cliente específico (customer_id).\n",
    "\n",
    "    3.2 Agregação: Sumarizar dados, como calcular o total de vendas por category ou a média de \n",
    "    idade dos clientes (age) por gender.\n",
    "'''"
   ]
  },
  {
   "cell_type": "code",
   "execution_count": null,
   "id": "98e1bf1d",
   "metadata": {
    "vscode": {
     "languageId": "plaintext"
    }
   },
   "outputs": [],
   "source": [
    "'''\n",
    "4. Consistência, Integridade, Concordância:\n",
    "    Esses conceitos referem-se a garantir que os dados sejam precisos, confiáveis e \n",
    "    consistentes em todo o conjunto de dados.\n",
    "\n",
    "    Verificar se todos os invoice_date estão no formato correto e se os valores de age \n",
    "    são razoáveis (por exemplo, não negativos ou excessivamente altos).\n",
    "    Assegurar que selling_price_per_unit seja sempre maior que cost_price_per_unit, \n",
    "    pois o contrário indicaria uma inconsistência nos dados\n",
    "'''"
   ]
  },
  {
   "cell_type": "code",
   "execution_count": null,
   "id": "87eba14a",
   "metadata": {
    "vscode": {
     "languageId": "plaintext"
    }
   },
   "outputs": [],
   "source": [
    "'''\n",
    "5. Duplicação e Redundância:\n",
    "    Dados duplicados ou redundantes podem distorcer análises e devem ser removidos ou tratados.\n",
    "    \n",
    "    Procurar por registros duplicados (por exemplo, duas transações com o mesmo invoice_no).\n",
    "    Identificar redundâncias, como se a combinação de region e state sempre leva ao \n",
    "    mesmo shopping_mall, indicando que um desses campos pode ser redundante.\n",
    "'''"
   ]
  }
 ],
 "metadata": {
  "kernelspec": {
   "display_name": "Python 3 (ipykernel)",
   "language": "python",
   "name": "python3"
  },
  "language_info": {
   "codemirror_mode": {
    "name": "ipython",
    "version": 3
   },
   "file_extension": ".py",
   "mimetype": "text/x-python",
   "name": "python",
   "nbconvert_exporter": "python",
   "pygments_lexer": "ipython3",
   "version": "3.10.11"
  }
 },
 "nbformat": 4,
 "nbformat_minor": 5
}
