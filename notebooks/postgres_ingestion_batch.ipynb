{
 "cells": [
  {
   "cell_type": "code",
   "execution_count": 1,
   "id": "0fe889b1-a586-4bb6-bbd8-4d81f83007bf",
   "metadata": {},
   "outputs": [],
   "source": [
    "from pyspark.sql import SparkSession\n",
    "from pyspark.sql.types import StructType, StructField, StringType, IntegerType, DoubleType, TimestampType\n",
    "import pyspark.sql.functions as f"
   ]
  },
  {
   "cell_type": "code",
   "execution_count": 2,
   "id": "3f847f07-b180-4094-9686-0bc2aab82a67",
   "metadata": {},
   "outputs": [
    {
     "name": "stdout",
     "output_type": "stream",
     "text": [
      "10.0.0.4\n"
     ]
    }
   ],
   "source": [
    "import os\n",
    "ip_address = os.environ.get('IP', '10.0.0.4')\n",
    "print(ip_address)"
   ]
  },
  {
   "cell_type": "code",
   "execution_count": 3,
   "id": "4cabbe2e-4ef9-47ae-9dc4-bd00aa1b1c4a",
   "metadata": {},
   "outputs": [],
   "source": [
    "# Configurações de acesso ao postgres\n",
    "host = ip_address\n",
    "port = \"5432\"\n",
    "database = \"postgres\"\n",
    "url = f\"jdbc:postgresql://{host}:{port}/{database}\""
   ]
  },
  {
   "cell_type": "code",
   "execution_count": 4,
   "id": "f0e15853-7032-4ff6-ae87-bef127da13bd",
   "metadata": {},
   "outputs": [],
   "source": [
    "spark = SparkSession.builder \\\n",
    "    .appName(\"Credit Events Processor\") \\\n",
    "    .config(\"spark.sql.adaptive.coalescePartitions.enabled\", \"true\") \\\n",
    "    .config(\"spark.jars.packages\", \"org.postgresql:postgresql:42.2.23\") \\\n",
    "    .getOrCreate()"
   ]
  },
  {
   "cell_type": "code",
   "execution_count": 11,
   "id": "e1881dbc-73ba-4e45-9e9f-af01d0a16e4c",
   "metadata": {},
   "outputs": [
    {
     "name": "stdout",
     "output_type": "stream",
     "text": [
      "lowerBound: 2023-09-28 20:31:37.232947\n",
      "upperBound: 2023-09-29 20:31:37.232947\n"
     ]
    }
   ],
   "source": [
    "import datetime\n",
    "now = datetime.datetime.now()\n",
    "# Calcule o lowerBound como 24 horas antes de now\n",
    "lowerBound_ = now - datetime.timedelta(days=1)\n",
    "upperBound_ = now\n",
    "print(\"lowerBound:\", lowerBound_)\n",
    "print(\"upperBound:\", upperBound_)"
   ]
  },
  {
   "cell_type": "code",
   "execution_count": null,
   "id": "183c2a6c",
   "metadata": {},
   "outputs": [],
   "source": [
    "\"\"\"Exercicio 1:\n",
    "    1. Conseguir buscar o `lowerBound` e `upperBound` com uma consulta de max e mim. select max(trans_date), min(trans_date) from public.credit_events ce;\n",
    "    2. Salvar os valores em lowerBound_ e upperBound_\n",
    "\"\"\"\n",
    "print(\"lowerBound:\", lowerBound_)\n",
    "print(\"upperBound:\", upperBound_)"
   ]
  },
  {
   "cell_type": "code",
   "execution_count": 21,
   "id": "1abc8872-3542-40fe-bfe0-36b11dd175c8",
   "metadata": {},
   "outputs": [],
   "source": [
    "df = ( \n",
    "    spark.read\n",
    "         .format(\"jdbc\")\n",
    "         .options(url=url, driver=\"org.postgresql.Driver\", dbtable=\"credit_events\", user=\"postgres\", password=\"postgres\") \\\n",
    "         .options(partitionColumn=\"trans_date\", lowerBound=lowerBound_, upperBound=upperBound_, numPartitions=\"30\")\n",
    "         .load()\n",
    ")"
   ]
  },
  {
   "cell_type": "code",
   "execution_count": 30,
   "id": "f94fbb2b-1ca9-4cad-b0d8-d21ebd714fc1",
   "metadata": {},
   "outputs": [
    {
     "name": "stdout",
     "output_type": "stream",
     "text": [
      "root\n",
      " |-- id: integer (nullable = true)\n",
      " |-- cpf: long (nullable = true)\n",
      " |-- cc_num: long (nullable = true)\n",
      " |-- first: string (nullable = true)\n",
      " |-- last: string (nullable = true)\n",
      " |-- trans_num: long (nullable = true)\n",
      " |-- trans_date: timestamp (nullable = true)\n",
      " |-- trans_time: timestamp (nullable = true)\n",
      " |-- unix_time: long (nullable = true)\n",
      " |-- category: string (nullable = true)\n",
      " |-- merchant: string (nullable = true)\n",
      " |-- value: decimal(10,2) (nullable = true)\n",
      " |-- location: string (nullable = true)\n",
      " |-- partition_date: string (nullable = true)\n",
      "\n"
     ]
    }
   ],
   "source": [
    "df.printSchema()"
   ]
  },
  {
   "cell_type": "code",
   "execution_count": 23,
   "id": "a002f1e2-fcfa-4fc5-9055-4e2e6be1ece8",
   "metadata": {},
   "outputs": [
    {
     "data": {
      "text/plain": [
       "200000"
      ]
     },
     "execution_count": 23,
     "metadata": {},
     "output_type": "execute_result"
    }
   ],
   "source": [
    "df.count()"
   ]
  },
  {
   "cell_type": "code",
   "execution_count": null,
   "id": "061207f7-929b-4d61-9683-4d4831e679a0",
   "metadata": {},
   "outputs": [],
   "source": [
    "(\n",
    "    df\n",
    "    .write\n",
    "    .mode(\"overwrite\")\n",
    "    .parquet(\"/home/jovyan/work/datalake/credit_events\")\n",
    ")"
   ]
  },
  {
   "cell_type": "code",
   "execution_count": null,
   "id": "e161a421-a478-4916-8f81-983bfe711e19",
   "metadata": {},
   "outputs": [],
   "source": [
    "\"\"\"Exercicio 2:\n",
    "    1. Escrever no datalake/credit_events os eventos particionados por \"partition_date\". Utilizar `.partitionBy(\"partition_date\").`\n",
    "    2. Atualizar os dados que serão escritos em D-1, ou seja, sempre inserir os dados das últimas 24h. Deve ser feito um filter(\"partition_date BETWEEN 'lower_date' AND 'upper_date'\")\n",
    "\"\"\"\n",
    "\n",
    "from pyspark.sql.functions import date_format\n",
    "\n",
    "df = df.withColumn(\"partition_date\", date_format(\"trans_date\", \"yyyy-MM-dd\"))\n"
   ]
  }
 ],
 "metadata": {
  "kernelspec": {
   "display_name": "Python 3 (ipykernel)",
   "language": "python",
   "name": "python3"
  },
  "language_info": {
   "codemirror_mode": {
    "name": "ipython",
    "version": 3
   },
   "file_extension": ".py",
   "mimetype": "text/x-python",
   "name": "python",
   "nbconvert_exporter": "python",
   "pygments_lexer": "ipython3",
   "version": "3.11.5"
  }
 },
 "nbformat": 4,
 "nbformat_minor": 5
}
