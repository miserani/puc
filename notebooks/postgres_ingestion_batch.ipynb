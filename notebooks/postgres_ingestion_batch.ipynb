{
 "cells": [
  {
   "cell_type": "code",
   "execution_count": 29,
   "id": "0fe889b1-a586-4bb6-bbd8-4d81f83007bf",
   "metadata": {},
   "outputs": [],
   "source": [
    "from pyspark.sql import SparkSession\n",
    "from pyspark.sql.types import StructType, StructField, StringType, IntegerType, DoubleType, TimestampType\n",
    "import pyspark.sql.functions as f"
   ]
  },
  {
   "cell_type": "code",
   "execution_count": 30,
   "id": "f0e15853-7032-4ff6-ae87-bef127da13bd",
   "metadata": {},
   "outputs": [],
   "source": [
    "spark = SparkSession.builder \\\n",
    "    .appName(\"Credit Events Processor\") \\\n",
    "    .config(\"spark.sql.adaptive.coalescePartitions.enabled\", \"true\") \\\n",
    "    .config(\"spark.jars.packages\", \"org.postgresql:postgresql:42.2.23\") \\\n",
    "    .getOrCreate()"
   ]
  },
  {
   "cell_type": "code",
   "execution_count": 31,
   "id": "e1881dbc-73ba-4e45-9e9f-af01d0a16e4c",
   "metadata": {},
   "outputs": [
    {
     "name": "stdout",
     "output_type": "stream",
     "text": [
      "lowerBound: 2023-11-15 02:46:21.743090\n",
      "upperBound: 2023-11-16 02:46:21.743090\n"
     ]
    }
   ],
   "source": [
    "import datetime\n",
    "now = datetime.datetime.now()\n",
    "# Calcule o lowerBound como 24 horas antes de now\n",
    "lowerBound_ = now - datetime.timedelta(days=1)\n",
    "upperBound_ = now\n",
    "print(\"lowerBound:\", lowerBound_)\n",
    "print(\"upperBound:\", upperBound_)"
   ]
  },
  {
   "cell_type": "code",
   "execution_count": 32,
   "id": "1abc8872-3542-40fe-bfe0-36b11dd175c8",
   "metadata": {},
   "outputs": [],
   "source": [
    "# Configurações de acesso ao postgres\n",
    "host = \"172.23.0.1\"\n",
    "port = \"5432\"\n",
    "database = \"postgres\"\n",
    "url = f\"jdbc:postgresql://{host}:{port}/{database}\"\n",
    "\n",
    "df = ( \n",
    "    spark.read\n",
    "         .format(\"jdbc\")\n",
    "         .options(url=url, driver=\"org.postgresql.Driver\", dbtable=\"card_events\", user=\"postgres\", password=\"postgres\") \\\n",
    "         .options(partitionColumn=\"event_datetime\", lowerBound=lowerBound_, upperBound=upperBound_, numPartitions=\"30\")\n",
    "         .load()\n",
    ")"
   ]
  },
  {
   "cell_type": "code",
   "execution_count": 33,
   "id": "f94fbb2b-1ca9-4cad-b0d8-d21ebd714fc1",
   "metadata": {},
   "outputs": [
    {
     "name": "stdout",
     "output_type": "stream",
     "text": [
      "root\n",
      " |-- id: integer (nullable = true)\n",
      " |-- user_id: long (nullable = true)\n",
      " |-- cc_num: long (nullable = true)\n",
      " |-- first_name: string (nullable = true)\n",
      " |-- last_name: string (nullable = true)\n",
      " |-- event_datetime: timestamp (nullable = true)\n",
      " |-- event_unix_time: long (nullable = true)\n",
      " |-- category: string (nullable = true)\n",
      " |-- merchant: string (nullable = true)\n",
      " |-- value: decimal(10,2) (nullable = true)\n",
      " |-- location: string (nullable = true)\n",
      " |-- lon: string (nullable = true)\n",
      " |-- lat: string (nullable = true)\n",
      "\n"
     ]
    }
   ],
   "source": [
    "df.printSchema()"
   ]
  },
  {
   "cell_type": "code",
   "execution_count": 34,
   "id": "a002f1e2-fcfa-4fc5-9055-4e2e6be1ece8",
   "metadata": {},
   "outputs": [
    {
     "data": {
      "text/plain": [
       "1273471"
      ]
     },
     "execution_count": 34,
     "metadata": {},
     "output_type": "execute_result"
    }
   ],
   "source": [
    "df.count()"
   ]
  },
  {
   "cell_type": "code",
   "execution_count": 35,
   "id": "60b978b2-205f-417a-a7db-7d1fbaa27192",
   "metadata": {},
   "outputs": [
    {
     "name": "stdout",
     "output_type": "stream",
     "text": [
      "root\n",
      " |-- id: integer (nullable = true)\n",
      " |-- user_id: long (nullable = true)\n",
      " |-- cc_num: long (nullable = true)\n",
      " |-- first_name: string (nullable = true)\n",
      " |-- last_name: string (nullable = true)\n",
      " |-- event_datetime: timestamp (nullable = true)\n",
      " |-- event_unix_time: long (nullable = true)\n",
      " |-- category: string (nullable = true)\n",
      " |-- merchant: string (nullable = true)\n",
      " |-- value: decimal(10,2) (nullable = true)\n",
      " |-- location: string (nullable = true)\n",
      " |-- lon: string (nullable = true)\n",
      " |-- lat: string (nullable = true)\n",
      "\n"
     ]
    }
   ],
   "source": [
    "df.printSchema()"
   ]
  },
  {
   "cell_type": "code",
   "execution_count": null,
   "id": "061207f7-929b-4d61-9683-4d4831e679a0",
   "metadata": {},
   "outputs": [],
   "source": [
    "(\n",
    "    df\n",
    "    .write\n",
    "    .mode(\"overwrite\")\n",
    "    .parquet(\"/home/jovyan/work/datalake/card_events\")\n",
    ")"
   ]
  },
  {
   "cell_type": "code",
   "execution_count": null,
   "id": "e161a421-a478-4916-8f81-983bfe711e19",
   "metadata": {},
   "outputs": [],
   "source": [
    "\"\"\" Exercício 2:\n",
    "Coleta em batch por tempo com transformação para escrita com partições:\n",
    "    1. Escrever no datalake/credit_events os eventos particionados por \"event_datetime\". \n",
    "    2. Criar da coluna tipo string de data: `event_date` para utilizar na função `.partitionBy(\"event_date\").`\n",
    "    2. Atualizar os dados que serão escritos em D-1, ou seja, sempre inserir os dados das últimas 24h. Deve ser feito um filter(\"partition_date BETWEEN 'lower_date' AND 'upper_date'\")\n",
    "\"\"\""
   ]
  },
  {
   "cell_type": "code",
   "execution_count": null,
   "id": "5f764fbc",
   "metadata": {},
   "outputs": [],
   "source": []
  }
 ],
 "metadata": {
  "kernelspec": {
   "display_name": "Python 3 (ipykernel)",
   "language": "python",
   "name": "python3"
  },
  "language_info": {
   "codemirror_mode": {
    "name": "ipython",
    "version": 3
   },
   "file_extension": ".py",
   "mimetype": "text/x-python",
   "name": "python",
   "nbconvert_exporter": "python",
   "pygments_lexer": "ipython3",
   "version": "3.10.11"
  }
 },
 "nbformat": 4,
 "nbformat_minor": 5
}
